{
 "cells": [
  {
   "cell_type": "code",
   "execution_count": 1,
   "id": "f6e5561c",
   "metadata": {},
   "outputs": [],
   "source": [
    "# Load the data\n",
    "import pandas as pd\n",
    "\n",
    "# Load the data\n",
    "df = pd.read_csv('H:\\database.csv')  # replace with your csv file path\n",
    "\n",
    "# Separate the features (X) and the target variable (y)\n",
    "X = df.drop('Penetration rate', axis=1)  # replace 'penetration_rate' with your actual target column name\n",
    "y = df['Penetration rate']  # replace 'penetration_rate' with your actual target column name"
   ]
  },
  {
   "cell_type": "code",
   "execution_count": 2,
   "id": "4ed5cad0",
   "metadata": {},
   "outputs": [],
   "source": [
    "# Preprocess the data\n",
    "from sklearn.model_selection import train_test_split\n",
    "from sklearn.compose import ColumnTransformer\n",
    "from sklearn.pipeline import Pipeline\n",
    "from sklearn.impute import SimpleImputer\n",
    "from sklearn.preprocessing import OneHotEncoder\n",
    "\n",
    "# Split the data into training and testing sets\n",
    "X_train, X_test, y_train, y_test = train_test_split(X, y, test_size=0.2, random_state=42)\n",
    "\n",
    "# Identify numerical and categorical features\n",
    "numerical_features = X_train.select_dtypes(include=['int64', 'float64']).columns\n",
    "categorical_features = X_train.select_dtypes(include=['object']).columns\n",
    "\n",
    "# Define the preprocessing pipelines\n",
    "numerical_transformer = SimpleImputer(strategy='mean')\n",
    "categorical_transformer = Pipeline(steps=[\n",
    "    ('imputer', SimpleImputer(strategy='constant', fill_value='missing')),\n",
    "    ('onehot', OneHotEncoder(handle_unknown='ignore'))])\n",
    "\n",
    "preprocessor = ColumnTransformer(\n",
    "    transformers=[\n",
    "        ('num', numerical_transformer, numerical_features),\n",
    "        ('cat', categorical_transformer, categorical_features)])\n"
   ]
  },
  {
   "cell_type": "code",
   "execution_count": 3,
   "id": "b178bb24",
   "metadata": {},
   "outputs": [],
   "source": [
    "# Feature selection\n",
    "from sklearn.ensemble import RandomForestRegressor\n",
    "from sklearn.feature_selection import SelectFromModel\n",
    "\n",
    "# Fit a random forest model to the training data\n",
    "rf = RandomForestRegressor(random_state=42)\n",
    "rf.fit(preprocessor.fit_transform(X_train), y_train)\n",
    "\n",
    "# Use SelectFromModel to select features whose importance is greater than the mean importance\n",
    "selector = SelectFromModel(rf, threshold='mean', prefit=True)\n",
    "X_train_selected = selector.transform(preprocessor.transform(X_train))\n",
    "X_test_selected = selector.transform(preprocessor.transform(X_test))\n"
   ]
  },
  {
   "cell_type": "code",
   "execution_count": 4,
   "id": "aec4003d",
   "metadata": {},
   "outputs": [],
   "source": [
    "# Feature Engineering\n",
    "# Create a new feature that captures the interaction between Hardness and Percussion pressure\n",
    "df['Hardness_Percussion'] = df['Hardness'] * df['Percussion pressure']\n",
    "\n",
    "# Rerun the model with the new feature\n"
   ]
  },
  {
   "cell_type": "code",
   "execution_count": 5,
   "id": "a3a840bd",
   "metadata": {},
   "outputs": [],
   "source": [
    "# Model Tuning\n",
    "\n"
   ]
  },
  {
   "cell_type": "code",
   "execution_count": 6,
   "id": "05707919",
   "metadata": {},
   "outputs": [],
   "source": [
    "# Hyperparameter tuning\n",
    "from sklearn.model_selection import GridSearchCV\n",
    "\n",
    "# Define the hyperparameters and the values we want to test\n",
    "param_grid = {'n_estimators': [50, 100, 200], 'max_depth': [None, 10, 20, 30]}\n",
    "\n",
    "# Run the grid search\n",
    "grid_search = GridSearchCV(estimator=rf, param_grid=param_grid, cv=5)\n",
    "grid_search.fit(X_train_selected, y_train)\n",
    "\n",
    "# Get the best parameters\n",
    "best_params = grid_search.best_params_\n"
   ]
  },
  {
   "cell_type": "code",
   "execution_count": 7,
   "id": "14420bfe",
   "metadata": {},
   "outputs": [
    {
     "data": {
      "text/plain": [
       "RandomForestRegressor(max_depth=30, random_state=42)"
      ]
     },
     "execution_count": 7,
     "metadata": {},
     "output_type": "execute_result"
    }
   ],
   "source": [
    "# Train the final model\n",
    "# Train the final model\n",
    "rf_final = RandomForestRegressor(n_estimators=best_params['n_estimators'], \n",
    "                                 max_depth=best_params['max_depth'], \n",
    "                                 random_state=42)\n",
    "rf_final.fit(X_train_selected, y_train)\n"
   ]
  },
  {
   "cell_type": "code",
   "execution_count": 8,
   "id": "09c0d0d4",
   "metadata": {},
   "outputs": [
    {
     "name": "stdout",
     "output_type": "stream",
     "text": [
      "RMSE: 0.13397446831314913, R^2: 0.9571769421228721\n"
     ]
    }
   ],
   "source": [
    "# Evaluate the model\n",
    "from sklearn.metrics import mean_squared_error, r2_score\n",
    "\n",
    "# Predict on the test set\n",
    "y_test_pred = rf_final.predict(X_test_selected)\n",
    "\n",
    "# Calculate and print the RMSE and R^2 scores\n",
    "rmse = mean_squared_error(y_test, y_test_pred, squared=False)\n",
    "r2 = r2_score(y_test, y_test_pred)\n",
    "print(f'RMSE: {rmse}, R^2: {r2}')\n"
   ]
  },
  {
   "cell_type": "code",
   "execution_count": 9,
   "id": "5f03eea2",
   "metadata": {},
   "outputs": [
    {
     "data": {
      "image/png": "[encoded data removed]",
      "text/plain": [
       "<Figure size 432x288 with 1 Axes>"
      ]
     },
     "metadata": {
      "needs_background": "light"
     },
     "output_type": "display_data"
    }
   ],
   "source": [
    "# Residual Analysis\n",
    "import matplotlib.pyplot as plt\n",
    "import seaborn as sns\n",
    "\n",
    "# Calculate residuals\n",
    "residuals = y_test - y_test_pred\n",
    "\n",
    "# Plot the residuals\n",
    "sns.histplot(residuals, kde=True)\n",
    "plt.xlabel('Residuals')\n",
    "plt.title('Distribution of Residuals')\n",
    "plt.show()\n"
   ]
  },
  {
   "cell_type": "code",
   "execution_count": 10,
   "id": "da0374b8",
   "metadata": {},
   "outputs": [
    {
     "name": "stdout",
     "output_type": "stream",
     "text": [
      "                     Feature  Importance\n",
      "6                   Hardness    0.772346\n",
      "1        Percussion pressure    0.062120\n",
      "17  Time_2017-02-10T08:17:07    0.023220\n",
      "2              Feed pressure    0.021596\n",
      "15  Time_2017-02-10T08:16:54    0.017946\n",
      "4          Rotation pressure    0.014185\n",
      "0                      Depth    0.013993\n",
      "9         Hole id_07b4bd5a9d    0.012548\n",
      "5         Dampening pressure    0.010849\n",
      "3         Flush air pressure    0.010331\n",
      "8                     HoleNo    0.009501\n",
      "31  Time_2017-02-10T10:40:21    0.004889\n",
      "16  Time_2017-02-10T08:16:55    0.004026\n",
      "11        Hole id_5b88eb1e23    0.003034\n",
      "34  Time_2017-02-10T14.31.45    0.002988\n",
      "29  Time_2017-02-10T10:40:05    0.002888\n",
      "30  Time_2017-02-10T10:40:20    0.002078\n",
      "10        Hole id_35f0f14168    0.001603\n",
      "21  Time_2017-02-10T08:42:25    0.001382\n",
      "35  Time_2017-02-10T14.31.46    0.001197\n",
      "24  Time_2017-02-10T08:49:41    0.001195\n",
      "7                      Salve    0.000751\n",
      "23  Time_2017-02-10T08:42:27    0.000738\n",
      "13        Hole id_c92afa1018    0.000691\n",
      "27  Time_2017-02-10T10:09:45    0.000620\n",
      "20  Time_2017-02-10T08:30:23    0.000571\n",
      "12        Hole id_be8b244c5c    0.000530\n",
      "32  Time_2017-02-10T13:18:07    0.000325\n",
      "33  Time_2017-02-10T14.01.39    0.000280\n",
      "22  Time_2017-02-10T08:42:26    0.000273\n",
      "25  Time_2017-02-10T08:56:00    0.000221\n",
      "28  Time_2017-02-10T10:17:28    0.000211\n",
      "18  Time_2017-02-10T08:22:10    0.000204\n",
      "19  Time_2017-02-10T08:26:19    0.000197\n",
      "26  Time_2017-02-10T09:20:05    0.000187\n",
      "36  Time_2017-02-10T14.51.08    0.000180\n",
      "14  Time_2017-02-10T08:16:26    0.000107\n"
     ]
    }
   ],
   "source": [
    "# Get the transformed feature names\n",
    "transformed_features = preprocessor.transformers_[1][1]['onehot'].get_feature_names(categorical_features)\n",
    "all_features = list(numerical_features) + list(transformed_features)\n",
    "\n",
    "# Select the features\n",
    "selected_features = [feature for (feature, support) in zip(all_features, selector.get_support()) if support]\n",
    "\n",
    "# Create a DataFrame with the features and their respective importance scores\n",
    "importances = pd.DataFrame({\n",
    "    'Feature': selected_features,\n",
    "    'Importance': rf_final.feature_importances_\n",
    "})\n",
    "\n",
    "# Sort the DataFrame by the importance scores\n",
    "importances = importances.sort_values(by='Importance', ascending=False)\n",
    "\n",
    "# Print the feature importances\n",
    "print(importances)\n"
   ]
  },
  {
   "cell_type": "code",
   "execution_count": null,
   "id": "cb2b7c82",
   "metadata": {},
   "outputs": [],
   "source": []
  }
 ],
 "metadata": {
  "kernelspec": {
   "display_name": "Python 3",
   "language": "python",
   "name": "python3"
  },
  "language_info": {
   "codemirror_mode": {
    "name": "ipython",
    "version": 3
   },
   "file_extension": ".py",
   "mimetype": "text/x-python",
   "name": "python",
   "nbconvert_exporter": "python",
   "pygments_lexer": "ipython3",
   "version": "3.8.8"
  }
 },
 "nbformat": 4,
 "nbformat_minor": 5
}
